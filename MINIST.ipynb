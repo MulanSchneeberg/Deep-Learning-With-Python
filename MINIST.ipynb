{
  "nbformat": 4,
  "nbformat_minor": 0,
  "metadata": {
    "colab": {
      "provenance": [],
      "collapsed_sections": [],
      "authorship_tag": "ABX9TyOG45afmGUDjqmEBl0Fw06+",
      "include_colab_link": true
    },
    "kernelspec": {
      "name": "python3",
      "display_name": "Python 3"
    },
    "language_info": {
      "name": "python"
    }
  },
  "cells": [
    {
      "cell_type": "markdown",
      "metadata": {
        "id": "view-in-github",
        "colab_type": "text"
      },
      "source": [
        "<a href=\"https://colab.research.google.com/github/MulanSchneeberg/Deep-Learning-With-Python/blob/master/MINIST.ipynb\" target=\"_parent\"><img src=\"https://colab.research.google.com/assets/colab-badge.svg\" alt=\"Open In Colab\"/></a>"
      ]
    },
    {
      "cell_type": "markdown",
      "source": [
        "# 1. Loading the MINIST datasets in Keras"
      ],
      "metadata": {
        "id": "OEjb_IZsULuG"
      }
    },
    {
      "cell_type": "code",
      "source": [
        "from tensorflow.keras.datasets import mnist\n",
        "(train_images, train_lables), (test_images, test_lables)=mnist.load_data()\n"
      ],
      "metadata": {
        "id": "E2X7JllqUQkZ"
      },
      "execution_count": 30,
      "outputs": []
    },
    {
      "cell_type": "markdown",
      "source": [
        "The images are encoded as NumPy arrays, and the labels are an array of digits, rang\n",
        "ing from 0 to 9. The images and labels have a one-to-one correspondence."
      ],
      "metadata": {
        "id": "FTzGh9ijVCWx"
      }
    },
    {
      "cell_type": "markdown",
      "source": [
        "## 1.1. Take a look at the data"
      ],
      "metadata": {
        "id": "CEg7VJszVHfQ"
      }
    },
    {
      "cell_type": "code",
      "source": [
        "train_images.shape"
      ],
      "metadata": {
        "colab": {
          "base_uri": "https://localhost:8080/"
        },
        "id": "KfxyHRz5VL2n",
        "outputId": "59c04d8f-6b80-4a54-f903-629ee0b1d89f"
      },
      "execution_count": 31,
      "outputs": [
        {
          "output_type": "execute_result",
          "data": {
            "text/plain": [
              "(60000, 28, 28)"
            ]
          },
          "metadata": {},
          "execution_count": 31
        }
      ]
    },
    {
      "cell_type": "code",
      "source": [
        "len(train_lables)"
      ],
      "metadata": {
        "colab": {
          "base_uri": "https://localhost:8080/"
        },
        "id": "d4SEr5mXVQ-5",
        "outputId": "d505a90e-19dd-4e42-f285-fb8c62da488f"
      },
      "execution_count": 32,
      "outputs": [
        {
          "output_type": "execute_result",
          "data": {
            "text/plain": [
              "60000"
            ]
          },
          "metadata": {},
          "execution_count": 32
        }
      ]
    },
    {
      "cell_type": "code",
      "source": [
        "train_lables.shape"
      ],
      "metadata": {
        "colab": {
          "base_uri": "https://localhost:8080/"
        },
        "id": "3whb0WEjVYYv",
        "outputId": "54f864d2-29f4-4d6e-f224-894f31e79990"
      },
      "execution_count": 33,
      "outputs": [
        {
          "output_type": "execute_result",
          "data": {
            "text/plain": [
              "(60000,)"
            ]
          },
          "metadata": {},
          "execution_count": 33
        }
      ]
    },
    {
      "cell_type": "code",
      "source": [
        "train_lables"
      ],
      "metadata": {
        "colab": {
          "base_uri": "https://localhost:8080/"
        },
        "id": "O3-w0zxZVb0Q",
        "outputId": "a0d0b5db-2739-4841-a8a1-df6780b8e72e"
      },
      "execution_count": 34,
      "outputs": [
        {
          "output_type": "execute_result",
          "data": {
            "text/plain": [
              "array([5, 0, 4, ..., 5, 6, 8], dtype=uint8)"
            ]
          },
          "metadata": {},
          "execution_count": 34
        }
      ]
    },
    {
      "cell_type": "code",
      "source": [
        "test_images.shape"
      ],
      "metadata": {
        "colab": {
          "base_uri": "https://localhost:8080/"
        },
        "id": "wmXGngM8Vg-O",
        "outputId": "49d0ee70-932f-4540-c102-0f19af63f6b4"
      },
      "execution_count": 35,
      "outputs": [
        {
          "output_type": "execute_result",
          "data": {
            "text/plain": [
              "(10000, 28, 28)"
            ]
          },
          "metadata": {},
          "execution_count": 35
        }
      ]
    },
    {
      "cell_type": "code",
      "source": [
        "test_lables"
      ],
      "metadata": {
        "colab": {
          "base_uri": "https://localhost:8080/"
        },
        "id": "FGTWKyLMVk5N",
        "outputId": "7a1c7d75-d9d3-48a8-e731-230b33aedf16"
      },
      "execution_count": 36,
      "outputs": [
        {
          "output_type": "execute_result",
          "data": {
            "text/plain": [
              "array([7, 2, 1, ..., 4, 5, 6], dtype=uint8)"
            ]
          },
          "metadata": {},
          "execution_count": 36
        }
      ]
    },
    {
      "cell_type": "markdown",
      "source": [
        "# 2. The network architecture\n",
        "\n",
        "- The core building block of neural networks is the\n",
        "layer\n",
        "- You can think of a layer as a filter for data: some data goes in, and it comes out in a more useful form.\n",
        "\n",
        "- Here, our model consists of a sequence of two Dense layers, which are densely connected (also called fully connected) neural layers. The second (and last) layer is a 10-way softmax classification layer, which means it will return an array of 10 probability scores (summing to 1). Each score will be the probability that the current digit image belongs to one of our 10 digit classes.\n",
        "\n"
      ],
      "metadata": {
        "id": "RYu6XlOlVxfD"
      }
    },
    {
      "cell_type": "code",
      "source": [
        "from tensorflow import keras\n",
        "from tensorflow.keras import layers\n",
        "model= keras.Sequential([\n",
        "    layers.Dense(512,activation='relu'),\n",
        "    layers.Dense(10, activation='softmax')\n",
        "\n",
        "])"
      ],
      "metadata": {
        "id": "4LcDKYydVnRQ"
      },
      "execution_count": 37,
      "outputs": []
    },
    {
      "cell_type": "markdown",
      "source": [
        "# 3. Compilation: Pick Optimizer, loss function and metrices to monitor during training and test\n",
        "To make the model ready for training, we need to pick three more things as part of the compilation step:\n",
        "\n",
        "1. An optimizer\n",
        "  - he mechanism through which the model will update itself based on the training data it sees, so as to improve its performance.\n",
        "\n",
        "2. A loss function\n",
        "  - How the model will be able to measure its performance on the training data, and thus how it will be able to steer itself in the right direction.\n",
        "\n",
        "3. Metrics to monitor during training and testing\n",
        "  - Here, we’ll only car\n",
        "\n"
      ],
      "metadata": {
        "id": "QAblOs30XD2W"
      }
    },
    {
      "cell_type": "code",
      "source": [
        "model.compile(optimizer='rmsprop', loss='sparse_categorical_crossentropy', metrics=['accuracy'])"
      ],
      "metadata": {
        "id": "EC_iE3AKV-5n"
      },
      "execution_count": 38,
      "outputs": []
    },
    {
      "cell_type": "markdown",
      "source": [
        "# 4. Preparing the image data\n",
        "Before training, we’ll preprocess the data by reshaping it into the shape the model expects and scaling it so that all values are in the [0,1] interval. Previously, our training images were stored in an array of shape (\n",
        "60000,28,28) of type uint8 with values in the [0,255] interval. We’ll transform it into a float32 array of shape(60000,28*28)with values between 0 and 1."
      ],
      "metadata": {
        "id": "tyFb7SMYYBhg"
      }
    },
    {
      "cell_type": "code",
      "source": [
        "train_images=train_images.reshape((60000, 28*28))"
      ],
      "metadata": {
        "id": "gGEZIOF6X-aL"
      },
      "execution_count": 39,
      "outputs": []
    },
    {
      "cell_type": "code",
      "source": [
        "train_images=train_images.astype('float32')/255 # feature scaling"
      ],
      "metadata": {
        "id": "l0cxJH_IZCyu"
      },
      "execution_count": 40,
      "outputs": []
    },
    {
      "cell_type": "code",
      "source": [
        "test_images=test_images.reshape((10000, 28*28))\n"
      ],
      "metadata": {
        "id": "e2_qiR3pZQYg"
      },
      "execution_count": 41,
      "outputs": []
    },
    {
      "cell_type": "code",
      "source": [
        "test_images=test_images.astype('float32')/255"
      ],
      "metadata": {
        "id": "HoPQqx7SZanW"
      },
      "execution_count": 42,
      "outputs": []
    },
    {
      "cell_type": "markdown",
      "source": [
        "# 5. Train the model use ***fit*** method"
      ],
      "metadata": {
        "id": "p2RU3FUZZtH7"
      }
    },
    {
      "cell_type": "code",
      "source": [
        "model.fit(train_images, train_lables, epochs=5, batch_size=128)"
      ],
      "metadata": {
        "colab": {
          "base_uri": "https://localhost:8080/"
        },
        "id": "yQ_nofTOZlPH",
        "outputId": "0b8f9f36-8c61-4b5b-9411-994b4efb31af"
      },
      "execution_count": 43,
      "outputs": [
        {
          "output_type": "stream",
          "name": "stdout",
          "text": [
            "Epoch 1/5\n",
            "469/469 [==============================] - 3s 6ms/step - loss: 0.2634 - accuracy: 0.9233\n",
            "Epoch 2/5\n",
            "469/469 [==============================] - 3s 6ms/step - loss: 0.1057 - accuracy: 0.9682\n",
            "Epoch 3/5\n",
            "469/469 [==============================] - 3s 6ms/step - loss: 0.0700 - accuracy: 0.9793\n",
            "Epoch 4/5\n",
            "469/469 [==============================] - 3s 6ms/step - loss: 0.0503 - accuracy: 0.9849\n",
            "Epoch 5/5\n",
            "469/469 [==============================] - 3s 6ms/step - loss: 0.0379 - accuracy: 0.9886\n"
          ]
        },
        {
          "output_type": "execute_result",
          "data": {
            "text/plain": [
              "<keras.callbacks.History at 0x7f3672634d50>"
            ]
          },
          "metadata": {},
          "execution_count": 43
        }
      ]
    },
    {
      "cell_type": "markdown",
      "source": [
        "Two quantities are displayed during training: the loss of the model over the training data, and the accuracy of the model over the training data. We quickly reach an accuracy of 0.989 (98.9%) on the training data."
      ],
      "metadata": {
        "id": "656_s8Y6ag9U"
      }
    },
    {
      "cell_type": "markdown",
      "source": [
        "# 6. Prediction using test data"
      ],
      "metadata": {
        "id": "tVGVoLa6amSj"
      }
    },
    {
      "cell_type": "code",
      "source": [
        "test_digits=test_images[0:10]"
      ],
      "metadata": {
        "id": "N8V3ZQcaZ-bj"
      },
      "execution_count": 44,
      "outputs": []
    },
    {
      "cell_type": "code",
      "source": [
        "\n",
        "predications=model.predict(test_digits)"
      ],
      "metadata": {
        "id": "dE2KdxJra3yf"
      },
      "execution_count": 45,
      "outputs": []
    },
    {
      "cell_type": "code",
      "source": [
        "predications[0]"
      ],
      "metadata": {
        "colab": {
          "base_uri": "https://localhost:8080/"
        },
        "id": "zfprUlNma-H2",
        "outputId": "47ff3f96-facc-4cfb-9523-fa17e5fdcb40"
      },
      "execution_count": 47,
      "outputs": [
        {
          "output_type": "execute_result",
          "data": {
            "text/plain": [
              "array([8.7858680e-09, 4.3558880e-12, 8.0301749e-07, 5.5422239e-05,\n",
              "       2.2841238e-12, 1.0048330e-08, 3.4855658e-15, 9.9994266e-01,\n",
              "       6.5235170e-08, 1.0098681e-06], dtype=float32)"
            ]
          },
          "metadata": {},
          "execution_count": 47
        }
      ]
    },
    {
      "cell_type": "markdown",
      "source": [
        "Each number of index i in that array corresponds to the probability that digit image test_digits[0] belongs to class i.\n",
        "This first test digit has the highest probability score (0.99999106, almost 1) at index 7, so according to our model, it must be a 7"
      ],
      "metadata": {
        "id": "Tnc389RFbNyU"
      }
    },
    {
      "cell_type": "code",
      "source": [
        "predications[0].argmax()"
      ],
      "metadata": {
        "colab": {
          "base_uri": "https://localhost:8080/"
        },
        "id": "GiyjDmR-bsR5",
        "outputId": "913bd4b6-bf0e-40a6-96f0-8e36a6600aa7"
      },
      "execution_count": 49,
      "outputs": [
        {
          "output_type": "execute_result",
          "data": {
            "text/plain": [
              "7"
            ]
          },
          "metadata": {},
          "execution_count": 49
        }
      ]
    },
    {
      "cell_type": "code",
      "source": [
        "predications[0][7]"
      ],
      "metadata": {
        "colab": {
          "base_uri": "https://localhost:8080/"
        },
        "id": "qlH-Hcscb2bQ",
        "outputId": "3f5fde95-b36c-43da-9b5d-bfcfae91f0f4"
      },
      "execution_count": 50,
      "outputs": [
        {
          "output_type": "execute_result",
          "data": {
            "text/plain": [
              "0.99994266"
            ]
          },
          "metadata": {},
          "execution_count": 50
        }
      ]
    },
    {
      "cell_type": "code",
      "source": [
        "test_lables[0] # verify the finding"
      ],
      "metadata": {
        "colab": {
          "base_uri": "https://localhost:8080/"
        },
        "id": "dzP6J5xGbBw3",
        "outputId": "d9d2ed15-77e5-4fbe-cd60-747df9bad1f2"
      },
      "execution_count": 51,
      "outputs": [
        {
          "output_type": "execute_result",
          "data": {
            "text/plain": [
              "7"
            ]
          },
          "metadata": {},
          "execution_count": 51
        }
      ]
    },
    {
      "cell_type": "markdown",
      "source": [
        "# 7. How good the model is?"
      ],
      "metadata": {
        "id": "KlAu2Do8b-Ix"
      }
    },
    {
      "cell_type": "code",
      "source": [
        "test_loss, test_acc=model.evaluate(test_images, test_lables)"
      ],
      "metadata": {
        "colab": {
          "base_uri": "https://localhost:8080/"
        },
        "id": "Wo95cSqrb9At",
        "outputId": "f83839d5-02fc-497b-fc9b-3b481e8ecf4a"
      },
      "execution_count": 52,
      "outputs": [
        {
          "output_type": "stream",
          "name": "stdout",
          "text": [
            "313/313 [==============================] - 1s 2ms/step - loss: 0.0652 - accuracy: 0.9801\n"
          ]
        }
      ]
    },
    {
      "cell_type": "code",
      "source": [],
      "metadata": {
        "id": "dwgDRUj7cNnm"
      },
      "execution_count": null,
      "outputs": []
    }
  ]
}