{
  "nbformat": 4,
  "nbformat_minor": 0,
  "metadata": {
    "colab": {
      "provenance": [],
      "collapsed_sections": [],
      "authorship_tag": "ABX9TyMX9f+TiMSIq8wbz/CihpX/",
      "include_colab_link": true
    },
    "kernelspec": {
      "name": "python3",
      "display_name": "Python 3"
    },
    "language_info": {
      "name": "python"
    }
  },
  "cells": [
    {
      "cell_type": "markdown",
      "metadata": {
        "id": "view-in-github",
        "colab_type": "text"
      },
      "source": [
        "<a href=\"https://colab.research.google.com/github/MulanSchneeberg/Deep-Learning-With-Python/blob/master/newswires_Single_label_MulticlassClassification.ipynb\" target=\"_parent\"><img src=\"https://colab.research.google.com/assets/colab-badge.svg\" alt=\"Open In Colab\"/></a>"
      ]
    },
    {
      "cell_type": "code",
      "execution_count": 175,
      "metadata": {
        "id": "k66jAe-Yhq1S"
      },
      "outputs": [],
      "source": [
        "import tensorflow as tf\n",
        "from tensorflow.keras.datasets import reuters\n",
        "import numpy as np"
      ]
    },
    {
      "cell_type": "code",
      "source": [
        "(train_data, train_label),(test_data, test_label)=reuters.load_data(num_words=10000)"
      ],
      "metadata": {
        "id": "GW0hBuQkh8hV"
      },
      "execution_count": 176,
      "outputs": []
    },
    {
      "cell_type": "code",
      "source": [
        "train_data.shape"
      ],
      "metadata": {
        "colab": {
          "base_uri": "https://localhost:8080/"
        },
        "id": "89GHc1_8iSqY",
        "outputId": "3dab1f5c-fec0-4b53-fc8f-6818ec5ce16f"
      },
      "execution_count": 177,
      "outputs": [
        {
          "output_type": "execute_result",
          "data": {
            "text/plain": [
              "(8982,)"
            ]
          },
          "metadata": {},
          "execution_count": 177
        }
      ]
    },
    {
      "cell_type": "code",
      "source": [
        "train_label.shape"
      ],
      "metadata": {
        "colab": {
          "base_uri": "https://localhost:8080/"
        },
        "id": "7GJhp6xfiVlo",
        "outputId": "209d48ed-7c27-41ae-8abd-07bd94b80d0f"
      },
      "execution_count": 178,
      "outputs": [
        {
          "output_type": "execute_result",
          "data": {
            "text/plain": [
              "(8982,)"
            ]
          },
          "metadata": {},
          "execution_count": 178
        }
      ]
    },
    {
      "cell_type": "code",
      "source": [
        "test_data.shape"
      ],
      "metadata": {
        "colab": {
          "base_uri": "https://localhost:8080/"
        },
        "id": "fncCOel0iXsP",
        "outputId": "c66bc853-dc94-47d2-d678-c54bd32d5adb"
      },
      "execution_count": 179,
      "outputs": [
        {
          "output_type": "execute_result",
          "data": {
            "text/plain": [
              "(2246,)"
            ]
          },
          "metadata": {},
          "execution_count": 179
        }
      ]
    },
    {
      "cell_type": "code",
      "source": [
        "train_data[0]"
      ],
      "metadata": {
        "colab": {
          "base_uri": "https://localhost:8080/"
        },
        "id": "FRXoHyJeiZvv",
        "outputId": "42554527-6eab-4c39-e9ec-2a8f99882bce"
      },
      "execution_count": 180,
      "outputs": [
        {
          "output_type": "execute_result",
          "data": {
            "text/plain": [
              "[1,\n",
              " 2,\n",
              " 2,\n",
              " 8,\n",
              " 43,\n",
              " 10,\n",
              " 447,\n",
              " 5,\n",
              " 25,\n",
              " 207,\n",
              " 270,\n",
              " 5,\n",
              " 3095,\n",
              " 111,\n",
              " 16,\n",
              " 369,\n",
              " 186,\n",
              " 90,\n",
              " 67,\n",
              " 7,\n",
              " 89,\n",
              " 5,\n",
              " 19,\n",
              " 102,\n",
              " 6,\n",
              " 19,\n",
              " 124,\n",
              " 15,\n",
              " 90,\n",
              " 67,\n",
              " 84,\n",
              " 22,\n",
              " 482,\n",
              " 26,\n",
              " 7,\n",
              " 48,\n",
              " 4,\n",
              " 49,\n",
              " 8,\n",
              " 864,\n",
              " 39,\n",
              " 209,\n",
              " 154,\n",
              " 6,\n",
              " 151,\n",
              " 6,\n",
              " 83,\n",
              " 11,\n",
              " 15,\n",
              " 22,\n",
              " 155,\n",
              " 11,\n",
              " 15,\n",
              " 7,\n",
              " 48,\n",
              " 9,\n",
              " 4579,\n",
              " 1005,\n",
              " 504,\n",
              " 6,\n",
              " 258,\n",
              " 6,\n",
              " 272,\n",
              " 11,\n",
              " 15,\n",
              " 22,\n",
              " 134,\n",
              " 44,\n",
              " 11,\n",
              " 15,\n",
              " 16,\n",
              " 8,\n",
              " 197,\n",
              " 1245,\n",
              " 90,\n",
              " 67,\n",
              " 52,\n",
              " 29,\n",
              " 209,\n",
              " 30,\n",
              " 32,\n",
              " 132,\n",
              " 6,\n",
              " 109,\n",
              " 15,\n",
              " 17,\n",
              " 12]"
            ]
          },
          "metadata": {},
          "execution_count": 180
        }
      ]
    },
    {
      "cell_type": "code",
      "source": [
        "len(train_data[0])"
      ],
      "metadata": {
        "colab": {
          "base_uri": "https://localhost:8080/"
        },
        "id": "_YHSzHmEidu_",
        "outputId": "ad4d7910-c627-4c6b-e2c4-7267868ba41e"
      },
      "execution_count": 181,
      "outputs": [
        {
          "output_type": "execute_result",
          "data": {
            "text/plain": [
              "87"
            ]
          },
          "metadata": {},
          "execution_count": 181
        }
      ]
    },
    {
      "cell_type": "code",
      "source": [
        "train_label[0]"
      ],
      "metadata": {
        "colab": {
          "base_uri": "https://localhost:8080/"
        },
        "id": "CfoCsiiYinsf",
        "outputId": "051168c7-686a-44f3-bfee-5fb2dfb526ce"
      },
      "execution_count": 182,
      "outputs": [
        {
          "output_type": "execute_result",
          "data": {
            "text/plain": [
              "3"
            ]
          },
          "metadata": {},
          "execution_count": 182
        }
      ]
    },
    {
      "cell_type": "code",
      "source": [
        "def vectorize_sequence(input, dimensions=10000):\n",
        "  result=np.zeros((len(input), dimensions))\n",
        "  for i, input in enumerate(input):\n",
        "    for j in (input):\n",
        "      result[i, j]=1.\n",
        "  return result"
      ],
      "metadata": {
        "id": "GleU2OWDiszo"
      },
      "execution_count": 183,
      "outputs": []
    },
    {
      "cell_type": "code",
      "source": [
        "x_train=vectorize_sequence(train_data)\n",
        "x_train"
      ],
      "metadata": {
        "colab": {
          "base_uri": "https://localhost:8080/"
        },
        "id": "RStUw6KbpJUq",
        "outputId": "873a38f7-4b38-4497-b386-1e5f90c63881"
      },
      "execution_count": 184,
      "outputs": [
        {
          "output_type": "execute_result",
          "data": {
            "text/plain": [
              "array([[0., 1., 1., ..., 0., 0., 0.],\n",
              "       [0., 1., 1., ..., 0., 0., 0.],\n",
              "       [0., 1., 1., ..., 0., 0., 0.],\n",
              "       ...,\n",
              "       [0., 1., 1., ..., 0., 0., 0.],\n",
              "       [0., 1., 1., ..., 0., 0., 0.],\n",
              "       [0., 1., 1., ..., 0., 0., 0.]])"
            ]
          },
          "metadata": {},
          "execution_count": 184
        }
      ]
    },
    {
      "cell_type": "code",
      "source": [
        "x_train.shape"
      ],
      "metadata": {
        "colab": {
          "base_uri": "https://localhost:8080/"
        },
        "id": "xTthhVvXpP3L",
        "outputId": "5ec2dbbf-d3ea-4b1f-8bbb-9ee5b198e888"
      },
      "execution_count": 185,
      "outputs": [
        {
          "output_type": "execute_result",
          "data": {
            "text/plain": [
              "(8982, 10000)"
            ]
          },
          "metadata": {},
          "execution_count": 185
        }
      ]
    },
    {
      "cell_type": "code",
      "source": [
        "x_test=vectorize_sequence(test_data)\n",
        "x_test"
      ],
      "metadata": {
        "colab": {
          "base_uri": "https://localhost:8080/"
        },
        "id": "jwePPb9Tpb-v",
        "outputId": "4afe9730-d3af-4c8b-fb70-e41a8f916355"
      },
      "execution_count": 186,
      "outputs": [
        {
          "output_type": "execute_result",
          "data": {
            "text/plain": [
              "array([[0., 1., 1., ..., 0., 0., 0.],\n",
              "       [0., 1., 1., ..., 0., 0., 0.],\n",
              "       [0., 1., 1., ..., 0., 0., 0.],\n",
              "       ...,\n",
              "       [0., 1., 0., ..., 0., 0., 0.],\n",
              "       [0., 1., 1., ..., 0., 0., 0.],\n",
              "       [0., 1., 1., ..., 0., 0., 0.]])"
            ]
          },
          "metadata": {},
          "execution_count": 186
        }
      ]
    },
    {
      "cell_type": "code",
      "source": [
        "x_test.shape"
      ],
      "metadata": {
        "colab": {
          "base_uri": "https://localhost:8080/"
        },
        "id": "kCxeVhuKptE7",
        "outputId": "cbf139f1-69f5-4ed9-8da1-f552ef91a4df"
      },
      "execution_count": 187,
      "outputs": [
        {
          "output_type": "execute_result",
          "data": {
            "text/plain": [
              "(2246, 10000)"
            ]
          },
          "metadata": {},
          "execution_count": 187
        }
      ]
    },
    {
      "cell_type": "code",
      "source": [
        "from tensorflow.keras.utils import to_categorical\n",
        "y_train=to_categorical(train_label)\n",
        "y_train.shape"
      ],
      "metadata": {
        "colab": {
          "base_uri": "https://localhost:8080/"
        },
        "id": "CEOGNUe5pwk6",
        "outputId": "6218ffc0-d30e-44aa-f7f5-0d86fb190a29"
      },
      "execution_count": 188,
      "outputs": [
        {
          "output_type": "execute_result",
          "data": {
            "text/plain": [
              "(8982, 46)"
            ]
          },
          "metadata": {},
          "execution_count": 188
        }
      ]
    },
    {
      "cell_type": "code",
      "source": [
        "y_test=to_categorical(test_label)\n",
        "y_test.shape"
      ],
      "metadata": {
        "colab": {
          "base_uri": "https://localhost:8080/"
        },
        "id": "m1e_VAkOqIT6",
        "outputId": "e3f24f3d-760b-48f1-f9e5-8bda184785c8"
      },
      "execution_count": 189,
      "outputs": [
        {
          "output_type": "execute_result",
          "data": {
            "text/plain": [
              "(2246, 46)"
            ]
          },
          "metadata": {},
          "execution_count": 189
        }
      ]
    },
    {
      "cell_type": "code",
      "source": [
        "from tensorflow.keras.layers import Dense\n",
        "from tensorflow.keras.models import Sequential\n",
        "\n",
        "model=Sequential([\n",
        "    Dense(64, activation='relu'),\n",
        "    Dense(64, activation='relu'),\n",
        "    Dense(46, activation='softmax'),\n",
        "])"
      ],
      "metadata": {
        "id": "nX5GyX21qN-K"
      },
      "execution_count": 190,
      "outputs": []
    },
    {
      "cell_type": "code",
      "source": [
        "model.compile(optimizer='rmsprop', loss='categorical_crossentropy', metrics=['accuracy'])"
      ],
      "metadata": {
        "id": "4ehb9u4UqpyD"
      },
      "execution_count": 191,
      "outputs": []
    },
    {
      "cell_type": "code",
      "source": [
        "history=model.fit(x_train[:1000], y_train[:1000], epochs=20, batch_size=512, validation_data=(x_train[1000:], y_train[1000:]))"
      ],
      "metadata": {
        "colab": {
          "base_uri": "https://localhost:8080/"
        },
        "id": "T5u22x93q9Dz",
        "outputId": "7f834907-659d-4047-d4e0-b3e508ad5be2"
      },
      "execution_count": 192,
      "outputs": [
        {
          "output_type": "stream",
          "name": "stdout",
          "text": [
            "Epoch 1/20\n",
            "2/2 [==============================] - 1s 713ms/step - loss: 3.7239 - accuracy: 0.2760 - val_loss: 3.4195 - val_accuracy: 0.4308\n",
            "Epoch 2/20\n",
            "2/2 [==============================] - 0s 371ms/step - loss: 3.2188 - accuracy: 0.4910 - val_loss: 2.9615 - val_accuracy: 0.4910\n",
            "Epoch 3/20\n",
            "2/2 [==============================] - 0s 382ms/step - loss: 2.6653 - accuracy: 0.5410 - val_loss: 2.5796 - val_accuracy: 0.5213\n",
            "Epoch 4/20\n",
            "2/2 [==============================] - 0s 376ms/step - loss: 2.1752 - accuracy: 0.5950 - val_loss: 2.2776 - val_accuracy: 0.5491\n",
            "Epoch 5/20\n",
            "2/2 [==============================] - 0s 376ms/step - loss: 1.7931 - accuracy: 0.6520 - val_loss: 2.0788 - val_accuracy: 0.5673\n",
            "Epoch 6/20\n",
            "2/2 [==============================] - 0s 361ms/step - loss: 1.5088 - accuracy: 0.6990 - val_loss: 1.9366 - val_accuracy: 0.5854\n",
            "Epoch 7/20\n",
            "2/2 [==============================] - 0s 366ms/step - loss: 1.2993 - accuracy: 0.7470 - val_loss: 1.8352 - val_accuracy: 0.6102\n",
            "Epoch 8/20\n",
            "2/2 [==============================] - 0s 371ms/step - loss: 1.1259 - accuracy: 0.7920 - val_loss: 1.7455 - val_accuracy: 0.6257\n",
            "Epoch 9/20\n",
            "2/2 [==============================] - 0s 370ms/step - loss: 0.9820 - accuracy: 0.8280 - val_loss: 1.6869 - val_accuracy: 0.6377\n",
            "Epoch 10/20\n",
            "2/2 [==============================] - 0s 389ms/step - loss: 0.8674 - accuracy: 0.8540 - val_loss: 1.6381 - val_accuracy: 0.6457\n",
            "Epoch 11/20\n",
            "2/2 [==============================] - 0s 400ms/step - loss: 0.7665 - accuracy: 0.8750 - val_loss: 1.5900 - val_accuracy: 0.6587\n",
            "Epoch 12/20\n",
            "2/2 [==============================] - 0s 378ms/step - loss: 0.6820 - accuracy: 0.8920 - val_loss: 1.5481 - val_accuracy: 0.6715\n",
            "Epoch 13/20\n",
            "2/2 [==============================] - 0s 388ms/step - loss: 0.6075 - accuracy: 0.9040 - val_loss: 1.5149 - val_accuracy: 0.6807\n",
            "Epoch 14/20\n",
            "2/2 [==============================] - 0s 378ms/step - loss: 0.5435 - accuracy: 0.9210 - val_loss: 1.4885 - val_accuracy: 0.6828\n",
            "Epoch 15/20\n",
            "2/2 [==============================] - 0s 377ms/step - loss: 0.4869 - accuracy: 0.9310 - val_loss: 1.4768 - val_accuracy: 0.6843\n",
            "Epoch 16/20\n",
            "2/2 [==============================] - 0s 375ms/step - loss: 0.4348 - accuracy: 0.9460 - val_loss: 1.4545 - val_accuracy: 0.6882\n",
            "Epoch 17/20\n",
            "2/2 [==============================] - 0s 379ms/step - loss: 0.3903 - accuracy: 0.9560 - val_loss: 1.4450 - val_accuracy: 0.6896\n",
            "Epoch 18/20\n",
            "2/2 [==============================] - 0s 366ms/step - loss: 0.3499 - accuracy: 0.9590 - val_loss: 1.4486 - val_accuracy: 0.6837\n",
            "Epoch 19/20\n",
            "2/2 [==============================] - 0s 368ms/step - loss: 0.3143 - accuracy: 0.9630 - val_loss: 1.4274 - val_accuracy: 0.6912\n",
            "Epoch 20/20\n",
            "2/2 [==============================] - 0s 368ms/step - loss: 0.2812 - accuracy: 0.9680 - val_loss: 1.4191 - val_accuracy: 0.6932\n"
          ]
        }
      ]
    },
    {
      "cell_type": "code",
      "source": [
        "import matplotlib.pyplot as plt\n",
        "history_dict=history.history\n",
        "loss_values=history_dict['loss']\n",
        "val_loss_values=history_dict['val_loss']\n",
        "epochs=range(1, len(loss_values)+1)\n",
        "plt.plot(epochs, loss_values, label='Training loss')\n",
        "plt.plot(epochs, val_loss_values,label='Validation loss')\n",
        "plt.xlabel('Epochs')\n",
        "plt.ylabel('Loss')\n",
        "plt.legend()\n",
        "plt.show()"
      ],
      "metadata": {
        "colab": {
          "base_uri": "https://localhost:8080/",
          "height": 279
        },
        "id": "JiNKoTMHrMHi",
        "outputId": "5e6d97c9-cfcd-4f73-9a24-63d8f9064732"
      },
      "execution_count": 193,
      "outputs": [
        {
          "output_type": "display_data",
          "data": {
            "text/plain": [
              "<Figure size 432x288 with 1 Axes>"
            ],
            "image/png": "[encoded data removed]"
          },
          "metadata": {
            "needs_background": "light"
          }
        }
      ]
    },
    {
      "cell_type": "code",
      "source": [
        "plt.clf()\n",
        "acc=history_dict['accuracy']\n",
        "val_acc=history_dict['val_accuracy']\n",
        "epochs=range(1, len(loss_values)+1)\n",
        "plt.plot(epochs, acc, label='Training accuracy')\n",
        "plt.plot(epochs, val_acc ,label='validation accuracy')\n",
        "plt.xlabel('Epochs')\n",
        "plt.ylabel('Accuracy')\n",
        "plt.legend()\n",
        "plt.show()"
      ],
      "metadata": {
        "colab": {
          "base_uri": "https://localhost:8080/",
          "height": 283
        },
        "id": "tH3A_HIGsdAx",
        "outputId": "82b38a4f-ede7-48d9-cde5-86c623094c9c"
      },
      "execution_count": 194,
      "outputs": [
        {
          "output_type": "display_data",
          "data": {
            "text/plain": [
              "<Figure size 432x288 with 1 Axes>"
            ],
            "image/png": "[encoded data removed]"
          },
          "metadata": {
            "needs_background": "light"
          }
        }
      ]
    },
    {
      "cell_type": "code",
      "source": [
        "results=model.evaluate(x_test, y_test)\n",
        "results"
      ],
      "metadata": {
        "colab": {
          "base_uri": "https://localhost:8080/"
        },
        "id": "pdos769St0w5",
        "outputId": "c2ecdeec-b5e9-4317-e579-f955e6f73c5d"
      },
      "execution_count": 195,
      "outputs": [
        {
          "output_type": "stream",
          "name": "stdout",
          "text": [
            "71/71 [==============================] - 0s 3ms/step - loss: 1.4564 - accuracy: 0.6910\n"
          ]
        },
        {
          "output_type": "execute_result",
          "data": {
            "text/plain": [
              "[1.4564470052719116, 0.6910062432289124]"
            ]
          },
          "metadata": {},
          "execution_count": 195
        }
      ]
    },
    {
      "cell_type": "code",
      "source": [],
      "metadata": {
        "id": "vjBJdSE3vMg-"
      },
      "execution_count": 195,
      "outputs": []
    }
  ]
}