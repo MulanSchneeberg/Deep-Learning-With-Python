{
  "cells": [
    {
      "cell_type": "markdown",
      "metadata": {
        "colab_type": "text",
        "id": "view-in-github"
      },
      "source": [
        "<a href=\"https://colab.research.google.com/github/MulanSchneeberg/Deep-Learning-With-Python/blob/master/Copy_of_Chapter_3_5_3.ipynb\" target=\"_parent\"><img src=\"https://colab.research.google.com/assets/colab-badge.svg\" alt=\"Open In Colab\"/></a>"
      ]
    },
    {
      "cell_type": "markdown",
      "metadata": {
        "id": "BIElMDAIRdWL"
      },
      "source": []
    },
    {
      "cell_type": "markdown",
      "metadata": {
        "id": "Bgm6z5V3RdXI"
      },
      "source": [
        "# 3.5.1 Constant tensors and variables\n",
        "To do anything with TensorFlow, we need tensors. Tensors need to be created with some initial values\n",
        "e.g.\n",
        "- all-ones or all-zeros\n",
        "- or tensers of values drawn from a random distribution"
      ]
    },
    {
      "cell_type": "markdown",
      "metadata": {
        "id": "xMtXkOoTWaIr"
      },
      "source": []
    },
    {
      "cell_type": "code",
      "execution_count": null,
      "metadata": {
        "colab": {
          "base_uri": "https://localhost:8080/"
        },
        "id": "Ba1KG96rRps1",
        "outputId": "57db0d30-df9e-4d1f-b3e2-40da1c99454f"
      },
      "outputs": [
        {
          "name": "stdout",
          "output_type": "stream",
          "text": [
            "tf.Tensor(\n",
            "[[1.]\n",
            " [1.]], shape=(2, 1), dtype=float32)\n"
          ]
        }
      ],
      "source": [
        "import tensorflow as tf\n",
        "x=tf.ones(shape=(2,1)) # equivalent to np.ones(shape=(2,1))\n",
        "print(x)\n"
      ]
    },
    {
      "cell_type": "code",
      "execution_count": null,
      "metadata": {
        "colab": {
          "base_uri": "https://localhost:8080/"
        },
        "id": "McOh8qlkR4uh",
        "outputId": "b3c23448-9580-43f7-c96e-d64ff68afc62"
      },
      "outputs": [
        {
          "name": "stdout",
          "output_type": "stream",
          "text": [
            "tf.Tensor(\n",
            "[[0.]\n",
            " [0.]], shape=(2, 1), dtype=float32)\n"
          ]
        }
      ],
      "source": [
        "x=tf.zeros(shape=(2,1))\n",
        "print(x)"
      ]
    },
    {
      "cell_type": "markdown",
      "metadata": {
        "id": "-7g-jcv8SHv8"
      },
      "source": [
        "##Random tensors"
      ]
    },
    {
      "cell_type": "markdown",
      "metadata": {
        "id": "Yc0Vx0W2SkGr"
      },
      "source": [
        "### Tensors of random values drawn from a normal distribution with mean 0 and standard deviation 1. \n",
        "### Equivalent to `np.random.normal(size=(3,1), loc=0., scale=1.)`"
      ]
    },
    {
      "cell_type": "code",
      "execution_count": null,
      "metadata": {
        "colab": {
          "base_uri": "https://localhost:8080/"
        },
        "id": "lJl5OirSSO06",
        "outputId": "1f13e4de-0f05-4f9b-aaf0-5b71e607c164"
      },
      "outputs": [
        {
          "name": "stdout",
          "output_type": "stream",
          "text": [
            "tf.Tensor(\n",
            "[[-0.48020062]\n",
            " [ 2.0937977 ]\n",
            " [ 1.1061234 ]], shape=(3, 1), dtype=float32)\n"
          ]
        }
      ],
      "source": [
        "x=tf.random.normal(shape=(3,1), mean=0., stddev=1.)\n",
        "print(x)"
      ]
    },
    {
      "cell_type": "markdown",
      "metadata": {
        "id": "i-xgXB9iTPlG"
      },
      "source": [
        "### Tensors of random values drawn from a uniform distribution between 0 and 1.\n",
        "### Equivalent to `np.random.normal(size=(3,1), low=0., high=1.)`"
      ]
    },
    {
      "cell_type": "code",
      "execution_count": null,
      "metadata": {
        "colab": {
          "base_uri": "https://localhost:8080/"
        },
        "id": "hG31GuieSNhv",
        "outputId": "305954fe-053c-452c-bec9-dddf6e6788e1"
      },
      "outputs": [
        {
          "name": "stdout",
          "output_type": "stream",
          "text": [
            "tf.Tensor(\n",
            "[[0.8910471 ]\n",
            " [0.7716458 ]\n",
            " [0.03403234]], shape=(3, 1), dtype=float32)\n"
          ]
        }
      ],
      "source": [
        "x=tf.random.uniform(shape=(3,1), minval=0., maxval=1.)\n",
        "print(x)"
      ]
    },
    {
      "cell_type": "markdown",
      "metadata": {
        "id": "pj9LIYDfUS2k"
      },
      "source": [
        "## Create Tensor variables\n",
        "### Create variables: To create a variable, you need to provide some initial value, such as a random tensor."
      ]
    },
    {
      "cell_type": "code",
      "execution_count": null,
      "metadata": {
        "colab": {
          "base_uri": "https://localhost:8080/"
        },
        "id": "wGZgoq9IUaGH",
        "outputId": "456215fe-d0b1-4985-b6d9-56a8b05cb4a3"
      },
      "outputs": [
        {
          "name": "stdout",
          "output_type": "stream",
          "text": [
            "<tf.Variable 'Variable:0' shape=(3, 1) dtype=float32, numpy=\n",
            "array([[1.4253992 ],\n",
            "       [0.08583429],\n",
            "       [0.20478594]], dtype=float32)>\n"
          ]
        }
      ],
      "source": [
        "v=tf.Variable(initial_value=tf.random.normal(shape=(3,1)))\n",
        "print(v)"
      ]
    },
    {
      "cell_type": "markdown",
      "metadata": {
        "id": "rrNnUE5DUqWY"
      },
      "source": [
        "### The state of a variable can be modified via its assign method, as follows."
      ]
    },
    {
      "cell_type": "code",
      "execution_count": null,
      "metadata": {
        "colab": {
          "base_uri": "https://localhost:8080/"
        },
        "id": "OMMJGdPlUuKI",
        "outputId": "7f5d1896-0767-4ef0-b318-d29e5262825d"
      },
      "outputs": [
        {
          "name": "stdout",
          "output_type": "stream",
          "text": [
            "<tf.Variable 'Variable:0' shape=(3, 1) dtype=float32, numpy=\n",
            "array([[1.],\n",
            "       [1.],\n",
            "       [1.]], dtype=float32)>\n"
          ]
        }
      ],
      "source": [
        "v.assign(tf.ones(shape=(3,1)))\n",
        "print(v)"
      ]
    },
    {
      "cell_type": "markdown",
      "metadata": {
        "id": "mVjRpPISVEJM"
      },
      "source": [
        "### Or work o subsets of the coeffcients"
      ]
    },
    {
      "cell_type": "code",
      "execution_count": null,
      "metadata": {
        "colab": {
          "base_uri": "https://localhost:8080/"
        },
        "id": "d_GS2we_U1R_",
        "outputId": "b3ed889a-b248-4507-97e1-dcc0d797a433"
      },
      "outputs": [
        {
          "data": {
            "text/plain": [
              "<tf.Variable 'UnreadVariable' shape=(3, 1) dtype=float32, numpy=\n",
              "array([[3.],\n",
              "       [2.],\n",
              "       [2.]], dtype=float32)>"
            ]
          },
          "execution_count": 14,
          "metadata": {},
          "output_type": "execute_result"
        }
      ],
      "source": [
        "v[0, 0].assign(3)"
      ]
    },
    {
      "cell_type": "markdown",
      "metadata": {
        "id": "RV0E1xpSVVxN"
      },
      "source": [
        "### `assign_add()` and `assign_sub()` are += and -="
      ]
    },
    {
      "cell_type": "code",
      "execution_count": null,
      "metadata": {
        "colab": {
          "base_uri": "https://localhost:8080/"
        },
        "id": "hyhA9C6aVjT-",
        "outputId": "62fc7b77-4c9a-4afe-83b1-4b493a99de87"
      },
      "outputs": [
        {
          "data": {
            "text/plain": [
              "<tf.Variable 'UnreadVariable' shape=(3, 1) dtype=float32, numpy=\n",
              "array([[4.],\n",
              "       [3.],\n",
              "       [3.]], dtype=float32)>"
            ]
          },
          "execution_count": 15,
          "metadata": {},
          "output_type": "execute_result"
        }
      ],
      "source": [
        "v.assign_add(tf.ones((3,1)))"
      ]
    },
    {
      "cell_type": "markdown",
      "metadata": {
        "id": "kA6PG9T2Wa_1"
      },
      "source": [
        "# 3.5.2 Tensor operations: Doing math in TensorFlow"
      ]
    },
    {
      "cell_type": "code",
      "execution_count": null,
      "metadata": {
        "id": "owyVOUOKWez0"
      },
      "outputs": [],
      "source": [
        "a=tf.ones((2,2))\n",
        "b=tf.square(a)\n",
        "c=tf.sqrt(a)\n",
        "d=b+c\n",
        "e=tf.matmul(a,b) # Take the product of two tensors\n",
        "e *=d"
      ]
    },
    {
      "cell_type": "markdown",
      "metadata": {
        "id": "eNplcm8KXWB9"
      },
      "source": [
        "# 3.5.3 GradientTape API\n",
        "\n",
        "### Just open a `GradientTape` scope, apply some computation to one or several input tensors, and reetrieve the gradient of the result with respect to the inputs.\n",
        "### his is most commonly used to retrieve the gradients of the loss of a model with respect to its weights: `gradients = tape.gradient(loss, weights)`\n",
        ".\n"
      ]
    },
    {
      "cell_type": "code",
      "execution_count": null,
      "metadata": {
        "colab": {
          "base_uri": "https://localhost:8080/"
        },
        "id": "LWR2Dve0XkkW",
        "outputId": "a85a8b26-f2be-4e20-be21-c2180930c35c"
      },
      "outputs": [
        {
          "name": "stdout",
          "output_type": "stream",
          "text": [
            "tf.Tensor(6.0, shape=(), dtype=float32)\n"
          ]
        }
      ],
      "source": [
        "# Using GradientTape\n",
        "input_var=tf.Variable(initial_value=3.)\n",
        "with tf.GradientTape() as tape:\n",
        "  result=tf.square(input_var)\n",
        "gradient=tape.gradient(result,input_var)\n",
        "print(gradient)\n",
        "  "
      ]
    },
    {
      "cell_type": "markdown",
      "metadata": {
        "id": "zNkagJuuaY_j"
      },
      "source": [
        "### so far, you’ve only seen the case where the input tensors in `tape.gradient()` were TensorFlow variables. It’s actually possible for these inputs to be any arbitrary tensor. However, only trainable variables are tracked by default. With a constant tensor, you’d have to manually mark it as being tracked by calling `tape.watch()` on it."
      ]
    },
    {
      "cell_type": "code",
      "execution_count": null,
      "metadata": {
        "colab": {
          "base_uri": "https://localhost:8080/"
        },
        "id": "xVN3HoXoavYn",
        "outputId": "8f4bd24d-ec0b-49a1-dacd-a64b8da695b9"
      },
      "outputs": [
        {
          "name": "stdout",
          "output_type": "stream",
          "text": [
            "tf.Tensor(6.0, shape=(), dtype=float32)\n"
          ]
        }
      ],
      "source": [
        "# Using GradientTape with constant tensor inputs\n",
        "input_const=tf.constant(3.)\n",
        "with tf.GradientTape() as tape:\n",
        "  tape.watch(input_const)\n",
        "  result=tf.square(input_const)\n",
        "gradient=tape.gradient(result,input_const)\n",
        "print(gradient)"
      ]
    },
    {
      "cell_type": "code",
      "execution_count": null,
      "metadata": {
        "colab": {
          "base_uri": "https://localhost:8080/"
        },
        "id": "nonbcLT8bD72",
        "outputId": "93acea0a-851b-4a93-e74f-376b4eacc22f"
      },
      "outputs": [
        {
          "name": "stdout",
          "output_type": "stream",
          "text": [
            "tf.Tensor(9.8, shape=(), dtype=float32)\n"
          ]
        }
      ],
      "source": [
        "# USing nested gradient tapes to compute second-order gradients\n",
        "time=tf.Variable(0.)\n",
        "with tf.GradientTape() as outer_tape:\n",
        "  with tf.GradientTape() as inner_tape:\n",
        "    position=4.9*time**2\n",
        "  speed=inner_tape.gradient(position, time)\n",
        "acceleration=outer_tape.gradient(speed, time)\n",
        "print(acceleration)\n"
      ]
    }
  ],
  "metadata": {
    "colab": {
      "authorship_tag": "ABX9TyOUR51T5VkFsY/6XdrhmmhN",
      "collapsed_sections": [],
      "include_colab_link": true,
      "provenance": []
    },
    "kernelspec": {
      "display_name": "Python 3.10.4 64-bit",
      "language": "python",
      "name": "python3"
    },
    "language_info": {
      "name": "python",
      "version": "3.10.4"
    },
    "vscode": {
      "interpreter": {
        "hash": "b4f27d9b98637a93dfc92790c67a6714c8bfd98755bed637fb445c0198654de1"
      }
    }
  },
  "nbformat": 4,
  "nbformat_minor": 0
}
